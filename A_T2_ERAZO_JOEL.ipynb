{
  "nbformat": 4,
  "nbformat_minor": 0,
  "metadata": {
    "colab": {
      "provenance": [],
      "authorship_tag": "ABX9TyPO7lIyZnDBAksmYsF9q1jE",
      "include_colab_link": true
    },
    "kernelspec": {
      "name": "python3",
      "display_name": "Python 3"
    },
    "language_info": {
      "name": "python"
    }
  },
  "cells": [
    {
      "cell_type": "markdown",
      "metadata": {
        "id": "view-in-github",
        "colab_type": "text"
      },
      "source": [
        "<a href=\"https://colab.research.google.com/github/joelerz123/hola-mundo/blob/main/A_T2_ERAZO_JOEL.ipynb\" target=\"_parent\"><img src=\"https://colab.research.google.com/assets/colab-badge.svg\" alt=\"Open In Colab\"/></a>"
      ]
    },
    {
      "cell_type": "code",
      "execution_count": 1,
      "metadata": {
        "colab": {
          "base_uri": "https://localhost:8080/"
        },
        "id": "8L_SB1dVrbMo",
        "outputId": "ca614e05-b6cd-43d4-ad05-b99f8e4867ef"
      },
      "outputs": [
        {
          "output_type": "stream",
          "name": "stdout",
          "text": [
            "hola mundo\n"
          ]
        }
      ],
      "source": [
        "print (\"hola mundo\")"
      ]
    },
    {
      "cell_type": "code",
      "source": [
        "#Suma de dos números: Escribe un programa que pida al usuario dos números y los sume.\n",
        "numero_1 = int (input(\"ingrese el primero numero \"))\n",
        "numero_2 = int (input(\"ingrese el segundo numero \"))\n",
        "resultado = numero_1 + numero_2\n",
        "print (resultado)\n"
      ],
      "metadata": {
        "colab": {
          "base_uri": "https://localhost:8080/"
        },
        "id": "xx6qB8Bqsj3T",
        "outputId": "05c10eb8-e961-4e2f-f077-7b6d13a8f06f"
      },
      "execution_count": 2,
      "outputs": [
        {
          "output_type": "stream",
          "name": "stdout",
          "text": [
            "ingrese el primero numero 10\n",
            "ingrese el segundo numero 15\n",
            "25\n"
          ]
        }
      ]
    },
    {
      "cell_type": "code",
      "source": [
        "#Par o Impar: Escribe un programa que determine si un número introducido por el usuario es par o impar.\n",
        "numero_1 = int (input(\"ingrese un numero \"))\n",
        "\n",
        "\n",
        "if numero_1 % 2 == 0:\n",
        "    print(\"el numero es par\")\n",
        "else:\n",
        "   print (\"el numero es impar\")"
      ],
      "metadata": {
        "colab": {
          "base_uri": "https://localhost:8080/"
        },
        "id": "eW0GBC8VtjNC",
        "outputId": "9f30cad2-80cc-4b16-c526-26adf6f2f503"
      },
      "execution_count": 7,
      "outputs": [
        {
          "output_type": "stream",
          "name": "stdout",
          "text": [
            "ingrese un numero 15\n",
            "el numero es impar\n"
          ]
        }
      ]
    },
    {
      "cell_type": "code",
      "source": [
        "#Calculadora básica: Escribe un programa que realice operaciones básicas (suma, resta, multiplicación y división) entre dos números introducidos por el usuario.\n",
        "numero_1 = int (input(\"ingrese el primero numero \"))\n",
        "numero_2 = int (input(\"ingrese el segundo numero \"))\n",
        "print (\"escoga las siguientes opciones:\")\n",
        "print (\"1. suma\")\n",
        "print (\"2. resta \")\n",
        "print (\"3. multiplicacion\")\n",
        "print ( \"4. division\")\n",
        "\n",
        "suma = numero_1 + numero_2\n",
        "resta = numero_1 - numero_2\n",
        "multiplicacion = numero_1 * numero_2\n",
        "division = numero_1 / numero_2\n",
        "intro = input(\"ingrese un numero \")\n",
        "if intro == \"1\":\n",
        "  print(suma)\n",
        "elif intro == \"2\":\n",
        "  print(resta)\n",
        "elif intro == \"3\":\n",
        "  print(multiplicacion)\n",
        "elif intro == \"4\":\n",
        "  print(division)\n",
        "else:\n",
        "  print(\"no tenemos esa opcion disponible \")\n",
        "\n"
      ],
      "metadata": {
        "colab": {
          "base_uri": "https://localhost:8080/"
        },
        "id": "lHsC-ohDu3pR",
        "outputId": "5e662ae1-9451-4359-e8d9-a72b5a12c11c"
      },
      "execution_count": 28,
      "outputs": [
        {
          "output_type": "stream",
          "name": "stdout",
          "text": [
            "ingrese el primero numero 3\n",
            "ingrese el segundo numero 5\n",
            "escoga las siguientes opciones:\n",
            "1. suma\n",
            "2. resta \n",
            "3. multiplicacion\n",
            "4. division\n",
            "ingrese un numero 3\n",
            "15\n"
          ]
        }
      ]
    },
    {
      "cell_type": "code",
      "source": [
        "#Número mayor: Escribe un programa que pida tres números al usuario y determine cuál es el mayor.\n",
        "numero_1 = int (input(\"ingrese el primero numero \"))\n",
        "numero_2 = int (input(\"ingrese el segundo numero \"))\n",
        "numero_3 = int (input(\"ingrese el tercer numero\"))\n",
        "\n",
        "if numero_1 > numero_2 and numero_2 > numero_3:\n",
        "   print ( \" el numero mayor es :\", numero_1)\n"
      ],
      "metadata": {
        "colab": {
          "base_uri": "https://localhost:8080/"
        },
        "id": "dX281uEEzhqV",
        "outputId": "75ec7fee-b740-4122-a29d-0f16786fe7ca"
      },
      "execution_count": 17,
      "outputs": [
        {
          "output_type": "stream",
          "name": "stdout",
          "text": [
            "ingrese el primero numero 10\n",
            "ingrese el segundo numero 8\n",
            "ingrese el tercer numero7\n",
            " el numero mayor es : 10\n"
          ]
        }
      ]
    },
    {
      "cell_type": "code",
      "source": [
        "#Escribe un programa que calcule el área de un círculo a partir de su radio, ingresado por el usuario.\n"
      ],
      "metadata": {
        "id": "UKdjLSRe2_R7"
      },
      "execution_count": null,
      "outputs": []
    }
  ]
}